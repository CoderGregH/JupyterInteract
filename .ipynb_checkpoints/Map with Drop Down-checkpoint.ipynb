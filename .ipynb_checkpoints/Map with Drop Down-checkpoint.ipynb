{
 "cells": [
  {
   "cell_type": "code",
   "execution_count": 2,
   "metadata": {},
   "outputs": [],
   "source": [
    "from ipyleaflet import Map"
   ]
  },
  {
   "cell_type": "code",
   "execution_count": 6,
   "metadata": {},
   "outputs": [],
   "source": [
    "m = Map(center=[36.1744, -86.7679], zoom=10)"
   ]
  },
  {
   "cell_type": "code",
   "execution_count": 7,
   "metadata": {},
   "outputs": [
    {
     "data": {
      "application/vnd.jupyter.widget-view+json": {
       "model_id": "40d19fc0774e4a338e756d07157ebc97",
       "version_major": 2,
       "version_minor": 0
      },
      "text/plain": [
       "Map(basemap={'url': 'https://{s}.tile.openstreetmap.org/{z}/{x}/{y}.png', 'max_zoom': 19, 'attribution': 'Map …"
      ]
     },
     "metadata": {},
     "output_type": "display_data"
    }
   ],
   "source": [
    "m\n",
    "\n"
   ]
  },
  {
   "cell_type": "code",
   "execution_count": 8,
   "metadata": {},
   "outputs": [],
   "source": [
    "import ipywidgets as widgets"
   ]
  },
  {
   "cell_type": "code",
   "execution_count": 9,
   "metadata": {},
   "outputs": [],
   "source": [
    "city = widgets.Dropdown(options=[\"ST Giles Du Point\", \"Quimper\", \"La Touquet\", \"La trouville\" ])"
   ]
  },
  {
   "cell_type": "code",
   "execution_count": 10,
   "metadata": {},
   "outputs": [
    {
     "data": {
      "application/vnd.jupyter.widget-view+json": {
       "model_id": "77a6e34ff88648faa7a057ae6928e272",
       "version_major": 2,
       "version_minor": 0
      },
      "text/plain": [
       "Dropdown(options=('ST Giles Du Point', 'Quimper', 'La Touquet', 'La trouville'), value='ST Giles Du Point')"
      ]
     },
     "metadata": {},
     "output_type": "display_data"
    }
   ],
   "source": [
    "city"
   ]
  },
  {
   "cell_type": "code",
   "execution_count": 11,
   "metadata": {},
   "outputs": [],
   "source": [
    "from IPython.display import display"
   ]
  },
  {
   "cell_type": "code",
   "execution_count": 12,
   "metadata": {},
   "outputs": [
    {
     "data": {
      "application/vnd.jupyter.widget-view+json": {
       "model_id": "77a6e34ff88648faa7a057ae6928e272",
       "version_major": 2,
       "version_minor": 0
      },
      "text/plain": [
       "Dropdown(options=('ST Giles Du Point', 'Quimper', 'La Touquet', 'La trouville'), value='ST Giles Du Point')"
      ]
     },
     "metadata": {},
     "output_type": "display_data"
    }
   ],
   "source": [
    "display(city)"
   ]
  },
  {
   "cell_type": "code",
   "execution_count": 13,
   "metadata": {},
   "outputs": [
    {
     "data": {
      "text/plain": [
       "'ST Giles Du Point'"
      ]
     },
     "execution_count": 13,
     "metadata": {},
     "output_type": "execute_result"
    }
   ],
   "source": [
    "city.value"
   ]
  },
  {
   "cell_type": "code",
   "execution_count": 15,
   "metadata": {},
   "outputs": [
    {
     "data": {
      "application/vnd.jupyter.widget-view+json": {
       "model_id": "0da33d1a77b548ebbb11c7f76dd4ec4d",
       "version_major": 2,
       "version_minor": 0
      },
      "text/plain": [
       "Button(description='Take Action', style=ButtonStyle())"
      ]
     },
     "metadata": {},
     "output_type": "display_data"
    },
    {
     "name": "stdout",
     "output_type": "stream",
     "text": [
      "21:36:53:3653 PM\n",
      "21:36:54:3654 PM\n"
     ]
    }
   ],
   "source": [
    "btn = widgets.Button(description='Take Action')\n",
    "display(btn)"
   ]
  },
  {
   "cell_type": "code",
   "execution_count": 16,
   "metadata": {},
   "outputs": [],
   "source": [
    "import datetime\n"
   ]
  },
  {
   "cell_type": "code",
   "execution_count": 19,
   "metadata": {},
   "outputs": [],
   "source": [
    "def btn_onclick(b):\n",
    "    print(datetime.datetime.now().strftime('%T:%M%S %p'))"
   ]
  },
  {
   "cell_type": "code",
   "execution_count": 34,
   "metadata": {},
   "outputs": [],
   "source": [
    "btn.on_click(btn_onclick)"
   ]
  },
  {
   "cell_type": "code",
   "execution_count": 35,
   "metadata": {},
   "outputs": [
    {
     "data": {
      "application/vnd.jupyter.widget-view+json": {
       "model_id": "77a6e34ff88648faa7a057ae6928e272",
       "version_major": 2,
       "version_minor": 0
      },
      "text/plain": [
       "Dropdown(index=1, options=('ST Giles Du Point', 'Quimper', 'La Touquet', 'La trouville'), value='Quimper')"
      ]
     },
     "metadata": {},
     "output_type": "display_data"
    },
    {
     "name": "stdout",
     "output_type": "stream",
     "text": [
      "{'name': '_property_lock', 'old': {}, 'new': {'index': 2}, 'owner': Dropdown(index=1, options=('ST Giles Du Point', 'Quimper', 'La Touquet', 'La trouville'), value='Quimper'), 'type': 'change'}\n",
      "{'index': 2}\n",
      "{'name': 'label', 'old': 'Quimper', 'new': 'La Touquet', 'owner': Dropdown(index=2, options=('ST Giles Du Point', 'Quimper', 'La Touquet', 'La trouville'), value='Quimper'), 'type': 'change'}\n",
      "La Touquet\n",
      "La Touquet\n",
      "{'name': 'value', 'old': 'Quimper', 'new': 'La Touquet', 'owner': Dropdown(index=2, options=('ST Giles Du Point', 'Quimper', 'La Touquet', 'La trouville'), value='La Touquet'), 'type': 'change'}\n",
      "{'name': 'value', 'old': 'Quimper', 'new': 'La Touquet', 'owner': Dropdown(index=2, options=('ST Giles Du Point', 'Quimper', 'La Touquet', 'La trouville'), value='La Touquet'), 'type': 'change'}\n",
      "La Touquet\n",
      "{'name': 'index', 'old': 1, 'new': 2, 'owner': Dropdown(index=2, options=('ST Giles Du Point', 'Quimper', 'La Touquet', 'La trouville'), value='La Touquet'), 'type': 'change'}\n",
      "2\n",
      "{'name': '_property_lock', 'old': {'index': 2}, 'new': {}, 'owner': Dropdown(index=2, options=('ST Giles Du Point', 'Quimper', 'La Touquet', 'La trouville'), value='La Touquet'), 'type': 'change'}\n",
      "{}\n",
      "{'name': '_property_lock', 'old': {}, 'new': {'index': 3}, 'owner': Dropdown(index=2, options=('ST Giles Du Point', 'Quimper', 'La Touquet', 'La trouville'), value='La Touquet'), 'type': 'change'}\n",
      "{'index': 3}\n",
      "{'name': 'label', 'old': 'La Touquet', 'new': 'La trouville', 'owner': Dropdown(index=3, options=('ST Giles Du Point', 'Quimper', 'La Touquet', 'La trouville'), value='La Touquet'), 'type': 'change'}\n",
      "La trouville\n",
      "La trouville\n",
      "{'name': 'value', 'old': 'La Touquet', 'new': 'La trouville', 'owner': Dropdown(index=3, options=('ST Giles Du Point', 'Quimper', 'La Touquet', 'La trouville'), value='La trouville'), 'type': 'change'}\n",
      "{'name': 'value', 'old': 'La Touquet', 'new': 'La trouville', 'owner': Dropdown(index=3, options=('ST Giles Du Point', 'Quimper', 'La Touquet', 'La trouville'), value='La trouville'), 'type': 'change'}\n",
      "{'name': 'value', 'old': 'La Touquet', 'new': 'La trouville', 'owner': Dropdown(index=3, options=('ST Giles Du Point', 'Quimper', 'La Touquet', 'La trouville'), value='La trouville'), 'type': 'change'}\n",
      "La trouville\n",
      "{'name': 'index', 'old': 2, 'new': 3, 'owner': Dropdown(index=3, options=('ST Giles Du Point', 'Quimper', 'La Touquet', 'La trouville'), value='La trouville'), 'type': 'change'}\n",
      "3\n",
      "{'name': '_property_lock', 'old': {'index': 3}, 'new': {}, 'owner': Dropdown(index=3, options=('ST Giles Du Point', 'Quimper', 'La Touquet', 'La trouville'), value='La trouville'), 'type': 'change'}\n",
      "{}\n"
     ]
    }
   ],
   "source": [
    "display(city)"
   ]
  },
  {
   "cell_type": "code",
   "execution_count": 36,
   "metadata": {},
   "outputs": [],
   "source": [
    "def city_observer(bunch):\n",
    "    print(bunch)"
   ]
  },
  {
   "cell_type": "code",
   "execution_count": 37,
   "metadata": {},
   "outputs": [],
   "source": [
    "city.observe(city_observer, names='value')"
   ]
  },
  {
   "cell_type": "code",
   "execution_count": null,
   "metadata": {},
   "outputs": [],
   "source": []
  }
 ],
 "metadata": {
  "kernelspec": {
   "display_name": "Python 3",
   "language": "python",
   "name": "python3"
  },
  "language_info": {
   "codemirror_mode": {
    "name": "ipython",
    "version": 3
   },
   "file_extension": ".py",
   "mimetype": "text/x-python",
   "name": "python",
   "nbconvert_exporter": "python",
   "pygments_lexer": "ipython3",
   "version": "3.6.5"
  }
 },
 "nbformat": 4,
 "nbformat_minor": 2
}
